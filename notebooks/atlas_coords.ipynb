{
 "metadata": {
  "language_info": {
   "codemirror_mode": {
    "name": "ipython",
    "version": 3
   },
   "file_extension": ".py",
   "mimetype": "text/x-python",
   "name": "python",
   "nbconvert_exporter": "python",
   "pygments_lexer": "ipython3",
   "version": "3.8.3-final"
  },
  "orig_nbformat": 2,
  "kernelspec": {
   "name": "python3",
   "display_name": "Python 3.8.3 64-bit ('.venv')",
   "metadata": {
    "interpreter": {
     "hash": "b1c08e5752da52ab92d6ffe00a1af93040a0596fcb60bd02b16e80d0a2df9c01"
    }
   }
  }
 },
 "nbformat": 4,
 "nbformat_minor": 2,
 "cells": [
  {
   "cell_type": "code",
   "execution_count": 3,
   "metadata": {},
   "outputs": [],
   "source": [
    "import bg_atlasapi as bg"
   ]
  },
  {
   "cell_type": "code",
   "execution_count": 4,
   "metadata": {},
   "outputs": [
    {
     "output_type": "stream",
     "name": "stdout",
     "text": [
      "allen mouse atlas (res. 100um)\nFrom: http://www.brain-map.org (Wang et al 2020, https://doi.org/10.1016/j.cell.2020.04.007 )\n"
     ]
    },
    {
     "output_type": "execute_result",
     "data": {
      "text/plain": [
       "allen mouse atlas (res. 100um)\n",
       "From: http://www.brain-map.org (Wang et al 2020, https://doi.org/10.1016/j.cell.2020.04.007 )"
      ]
     },
     "metadata": {},
     "execution_count": 4
    }
   ],
   "source": [
    "atlas = bg.BrainGlobeAtlas(\"allen_mouse_100um\")\n",
    "atlas"
   ]
  },
  {
   "cell_type": "code",
   "execution_count": 5,
   "metadata": {},
   "outputs": [
    {
     "output_type": "execute_result",
     "data": {
      "text/plain": [
       "<BGSpace AnatomicalSpace object>\n",
       "origin: ('Anterior', 'Superior', 'Right')\n",
       "sections: ('Frontal plane', 'Horizontal plane', 'Sagittal plane')\n",
       "shape: (132, 80, 114)"
      ]
     },
     "metadata": {},
     "execution_count": 5
    }
   ],
   "source": [
    "atlas.space"
   ]
  },
  {
   "cell_type": "code",
   "execution_count": 6,
   "metadata": {},
   "outputs": [],
   "source": [
    "from bg_space import AnatomicalSpace\n",
    "new_space = AnatomicalSpace(\"air\")"
   ]
  },
  {
   "cell_type": "code",
   "execution_count": 7,
   "metadata": {},
   "outputs": [
    {
     "output_type": "execute_result",
     "data": {
      "text/plain": [
       "array([[[0, 0, 0, ..., 0, 0, 0],\n",
       "        [0, 0, 0, ..., 0, 0, 0],\n",
       "        [0, 0, 0, ..., 0, 0, 0],\n",
       "        ...,\n",
       "        [0, 0, 0, ..., 0, 0, 0],\n",
       "        [0, 0, 0, ..., 0, 0, 0],\n",
       "        [0, 0, 0, ..., 0, 0, 0]],\n",
       "\n",
       "       [[0, 0, 0, ..., 0, 0, 0],\n",
       "        [0, 0, 0, ..., 0, 0, 0],\n",
       "        [0, 0, 0, ..., 0, 0, 0],\n",
       "        ...,\n",
       "        [0, 0, 0, ..., 0, 0, 0],\n",
       "        [0, 0, 0, ..., 0, 0, 0],\n",
       "        [0, 0, 0, ..., 0, 0, 0]],\n",
       "\n",
       "       [[0, 0, 0, ..., 0, 0, 0],\n",
       "        [0, 0, 0, ..., 0, 0, 0],\n",
       "        [0, 0, 0, ..., 0, 0, 0],\n",
       "        ...,\n",
       "        [0, 0, 0, ..., 0, 0, 0],\n",
       "        [0, 0, 0, ..., 0, 0, 0],\n",
       "        [0, 0, 0, ..., 0, 0, 0]],\n",
       "\n",
       "       ...,\n",
       "\n",
       "       [[0, 1, 1, ..., 1, 1, 1],\n",
       "        [0, 1, 1, ..., 1, 1, 1],\n",
       "        [0, 1, 1, ..., 1, 1, 1],\n",
       "        ...,\n",
       "        [0, 1, 1, ..., 1, 1, 1],\n",
       "        [0, 1, 1, ..., 1, 1, 1],\n",
       "        [0, 0, 0, ..., 0, 0, 0]],\n",
       "\n",
       "       [[0, 1, 1, ..., 1, 1, 1],\n",
       "        [0, 1, 1, ..., 1, 1, 1],\n",
       "        [0, 1, 1, ..., 1, 1, 1],\n",
       "        ...,\n",
       "        [0, 1, 1, ..., 1, 1, 1],\n",
       "        [0, 1, 1, ..., 1, 1, 1],\n",
       "        [0, 0, 0, ..., 0, 0, 0]],\n",
       "\n",
       "       [[0, 1, 1, ..., 1, 1, 1],\n",
       "        [0, 1, 1, ..., 1, 1, 1],\n",
       "        [0, 1, 1, ..., 1, 1, 1],\n",
       "        ...,\n",
       "        [0, 1, 1, ..., 1, 1, 1],\n",
       "        [0, 1, 1, ..., 1, 1, 1],\n",
       "        [0, 0, 0, ..., 0, 0, 0]]], dtype=uint16)"
      ]
     },
     "metadata": {},
     "execution_count": 7
    }
   ],
   "source": [
    "atlas.space.map_stack_to(new_space, atlas.reference)"
   ]
  },
  {
   "cell_type": "code",
   "execution_count": null,
   "metadata": {},
   "outputs": [],
   "source": []
  }
 ]
}